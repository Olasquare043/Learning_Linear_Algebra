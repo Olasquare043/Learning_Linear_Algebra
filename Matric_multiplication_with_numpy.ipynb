{
 "cells": [
  {
   "cell_type": "markdown",
   "id": "50f1fa3a",
   "metadata": {},
   "source": [
    "# Matrix Operation with"
   ]
  },
  {
   "cell_type": "markdown",
   "id": "ebc6afff",
   "metadata": {},
   "source": [
    "### Question: Task 2\n",
    "A = |2  -1  3|\n",
    "    |0   4  1|\n",
    "\n",
    "B = |1    2|\n",
    "    |-2   0|\n",
    "    |5    3|\n",
    "\n",
    "1. Identify the number of rows and columns in each matrix.\n",
    "2. Determine whether the matrices can be multiplied. if so, specify whether its (AB), (BA) or both.\n",
    "3. if the multiplication is defined, compute the resulting matrix\n",
    "\n",
    "\n",
    "#### What to do:\n",
    "1. Numpy computation\n",
    "2. Markdown Manual computation "
   ]
  },
  {
   "cell_type": "markdown",
   "id": "c9e5e970",
   "metadata": {},
   "source": [
    "# Solution"
   ]
  },
  {
   "cell_type": "markdown",
   "id": "a74d1830",
   "metadata": {},
   "source": [
    "1. Numpy computation"
   ]
  },
  {
   "cell_type": "code",
   "execution_count": null,
   "id": "e28f34ec",
   "metadata": {},
   "outputs": [],
   "source": []
  },
  {
   "cell_type": "markdown",
   "id": "41f394e1",
   "metadata": {},
   "source": [
    "2. Markdown Manual computation "
   ]
  },
  {
   "cell_type": "code",
   "execution_count": null,
   "id": "28e50962",
   "metadata": {},
   "outputs": [],
   "source": []
  }
 ],
 "metadata": {
  "language_info": {
   "name": "python"
  }
 },
 "nbformat": 4,
 "nbformat_minor": 5
}
