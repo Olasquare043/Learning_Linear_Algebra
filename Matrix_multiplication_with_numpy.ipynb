{
 "cells": [
  {
   "cell_type": "markdown",
   "id": "50f1fa3a",
   "metadata": {},
   "source": [
    "# Matrix Operation with"
   ]
  },
  {
   "cell_type": "markdown",
   "id": "ebc6afff",
   "metadata": {},
   "source": [
    "### Question: Task 2\n",
    "A =\n",
    "\\begin{bmatrix}\n",
    "2 & -1 & 3 \\\\\n",
    "0 & 4 & 1\n",
    "\\end{bmatrix}, \n",
    "B = \n",
    "\\begin{bmatrix}\n",
    "1 & 2 \\\\\n",
    "-2 & 0 \\\\\n",
    "5 & 3\n",
    "\\end{bmatrix}\n",
    "\n",
    "1. Identify the number of rows and columns in each matrix.\n",
    "2. Determine whether the matrices can be multiplied. if so, specify whether its (AB), (BA) or both.\n",
    "3. if the multiplication is defined, compute the resulting matrix\n",
    "\n",
    "\n",
    "#### What to do:\n",
    "A. Numpy computation\n",
    "B. Markdown Manual computation "
   ]
  },
  {
   "cell_type": "markdown",
   "id": "c9e5e970",
   "metadata": {},
   "source": [
    "# Solution"
   ]
  },
  {
   "cell_type": "markdown",
   "id": "09e2702f",
   "metadata": {},
   "source": [
    "### 1. Identify the number of rows and columns in each matrix.\n",
    "\n",
    "`Matrix A has 2 rows and 3 columns. It is 2 by 3 matrix`\n",
    "\n",
    "`Matrix B has 3 rows and 2 columns. It is 3 by 2 matrix`\n"
   ]
  },
  {
   "cell_type": "markdown",
   "id": "01fb59c0",
   "metadata": {},
   "source": [
    "### 2. Determine whether the matrices can be multiplied. if so, specify whether its (AB), (BA) or both.\n",
    "\n",
    "`The matrices can be multiplied, because the numbers of columns in matrix A is equal to numbers of rows in matrix B`\n",
    "\n",
    "`Additionally, mutiplication can occur in both AB or BA, Since numbers of column in matrix B is aslo equal to the numbers of rows in matrix A. Hence, they will have different results and also, their result will have different dimensions. AB result will be 2x2, while BA will be 3x3`"
   ]
  },
  {
   "cell_type": "markdown",
   "id": "935f4aa3",
   "metadata": {},
   "source": [
    "### 3. If the multiplication is defined, compute the resulting matrix"
   ]
  },
  {
   "cell_type": "markdown",
   "id": "a74d1830",
   "metadata": {},
   "source": [
    "#### A. Numpy computation"
   ]
  },
  {
   "cell_type": "code",
   "execution_count": 1,
   "id": "e28f34ec",
   "metadata": {},
   "outputs": [
    {
     "name": "stdout",
     "output_type": "stream",
     "text": [
      "The order of Matrix A is: (2, 3)\n",
      "The order of Matrix B is: (3, 2)\n",
      "\n",
      "The Multiplication of matrix A and B is\n",
      " [[19 13]\n",
      " [-3  3]]\n",
      "\n",
      "\n",
      "The Multiplication of matrix B and A is\n",
      " [[ 2  7  5]\n",
      " [-4  2 -6]\n",
      " [10  7 18]]\n"
     ]
    }
   ],
   "source": [
    "import numpy as np\n",
    "# define the array\n",
    "matrix_A_elements= [[2,-1,3],\n",
    "                    [0,4,1]]\n",
    "matrix_A= np.array(matrix_A_elements)\n",
    "matrix_B_elements= [[1,2],\n",
    "                    [-2,0],\n",
    "                    [5,3]]\n",
    "matrix_B= np.array(matrix_B_elements)\n",
    "print(f\"The order of Matrix A is: {matrix_A.shape}\")\n",
    "print(f\"The order of Matrix B is: {matrix_B.shape}\")\n",
    "print(\"\")\n",
    "# performing multiplication of AB\n",
    "matrix_AB= matrix_A @ matrix_B\n",
    "print (f\"The Multiplication of matrix A and B is\\n {matrix_AB}\\n\\n\")\n",
    "\n",
    "# performing multiplication of BA\n",
    "matrix_BA=  matrix_B @ matrix_A\n",
    "print (f\"The Multiplication of matrix B and A is\\n {matrix_BA}\")\n"
   ]
  },
  {
   "cell_type": "markdown",
   "id": "41f394e1",
   "metadata": {},
   "source": [
    "#### B. Markdown Manual computation "
   ]
  },
  {
   "cell_type": "markdown",
   "id": "9eea5913",
   "metadata": {},
   "source": [
    "`1. Compute (AB)`\n",
    "\n",
    "- (A) is **2×3**  \n",
    "- (B) is **3×2**  \n",
    "- So the result will be **2×2**\n",
    "\n",
    "`Row 1 of (A) × columns of (B):`\n",
    "- ((2 x 1) + (-1 x -2) + (3 x 5)) = 2 + 2 + 15 = 19  \n",
    "- ((2 x 2) + (-1 x 0) + (3 x 3)) = 4 + 0 + 9 = 13\n",
    "\n",
    "`Row 2 of (A) × columns of (B):`\n",
    "- ((0 x 1) + (4 x -2) + (1 x 5) = 0 - 8 + 5 = -3)  \n",
    "- ((0 x 2) + (4 x 0) + (1 x 3) = 0 + 0 + 3 = 3)  \n",
    "\n",
    "`Final Result:`\n",
    "AB =\n",
    "\\begin{bmatrix}\n",
    "19 & 13 \\\\\n",
    "-3 & 3\n",
    "\\end{bmatrix}"
   ]
  },
  {
   "cell_type": "markdown",
   "id": "e5f60026",
   "metadata": {},
   "source": [
    "`2. Compute (BA)`\n",
    "\n",
    "- (B) is **3×2**  \n",
    "- (A) is **2×3**  \n",
    "- So the result will be **3×3**\n",
    "\n",
    "`Row 1 of (B) × columns of (A):`\n",
    "- ((1 x 2) + (2 x 0)) = 2 + 0 = 2  \n",
    "- ((1 x -1) + (2 x 4)) = -1 + 8 = 7  \n",
    "- ((1 x 3) + (2 x 1)) = 3 + 2 = 5 \n",
    "\n",
    "`Row 2 of (B) × columns of (A):`\n",
    "- ((-2 x 2) + (0 x 0)) = -4 + 0 = -4  \n",
    "- ((-2 x -1) + (0 x 4)) = 2 + 0 = 2\n",
    "- ((-2 x 3) + (0 x 1)) = -6 + 0 = -6\n",
    "\n",
    "`Row 3 of (B) × columns of (A):`\n",
    "- ((5 x 2) + (3 x 0)) = 10 + 0 = 10  \n",
    "- ((5 x -1) + (3 x 4)) = -5 + 12 = 7  \n",
    "- ((5 x 3) + (3 x 1)) = 15 + 3 = 18  \n",
    "\n",
    "`Final Result:`\n",
    "\n",
    "BA =\n",
    "\\begin{bmatrix}\n",
    "2 & 7 & 5 \\\\\n",
    "-4 & 2 & -6 \\\\\n",
    "10 & 7 & 18\n",
    "\\end{bmatrix}"
   ]
  },
  {
   "cell_type": "markdown",
   "id": "8cd4817f",
   "metadata": {},
   "source": [
    "\n",
    "##### Observation:\n",
    "- (AB) is a **2×2 matrix**  \n",
    "- (BA) is a **3×3 matrix**  \n",
    "Clearly, AB != BA, showing that matrix multiplication is **not commutative**."
   ]
  },
  {
   "cell_type": "markdown",
   "id": "44cea84b",
   "metadata": {},
   "source": [
    "# 📘 Matrix Multiplication with NumPy\n",
    "This repository contains a Jupyter Notebook that demonstrates **matrix operations** as part of the Gen AI Fellowship Programme's **Linear Algebra class**.  \n",
    "The focus is on solving a matrix multiplication task both **manually (step-by-step)** and **using NumPy in Python**.\n",
    "\n",
    "---\n",
    "\n",
    "### 📝 Task Description\n",
    "We are given two matrices:\n",
    "A =\n",
    "\\begin{bmatrix}\n",
    "2 & -1 & 3 \\\\\n",
    "0 & 4 & 1\n",
    "\\end{bmatrix},\n",
    "\n",
    "B =\n",
    "\\begin{bmatrix}\n",
    "1 & 2 \\\\\n",
    "-2 & 0 \\\\\n",
    "5 & 3\n",
    "\\end{bmatrix}\n",
    "\n",
    "\n",
    "`We need to:`\n",
    "1. Identify the number of rows and columns in each matrix.  \n",
    "2. Determine whether the matrices can be multiplied (AB, BA, or both).  \n",
    "3. If multiplication is defined, compute the resulting matrix using:  \n",
    "   - **A. NumPy computation**  \n",
    "   - **B. Manual step-by-step computation**\n",
    "\n",
    "---\n",
    "### 🚀 Solution Overview\n",
    "`1. Matrix Dimensions`\n",
    "- **Matrix A** → 2 × 3  \n",
    "- **Matrix B** → 3 × 2  \n",
    "\n",
    "`2. Multiplication Feasibility`\n",
    "- Both **AB** and **BA** are valid.  \n",
    "- AB will result in a **2 × 2** matrix.  \n",
    "- BA will result in a **3 × 3** matrix.  \n",
    "\n",
    "`3. Results`\n",
    "- **AB (Manual & NumPy)**  \n",
    "AB =\n",
    "\\begin{bmatrix}\n",
    "19 & 13 \\\\\n",
    "-3 & 3\n",
    "\\end{bmatrix}\n",
    "\n",
    "- **BA (NumPy)**  \n",
    "BA =\n",
    "\\begin{bmatrix}\n",
    "2 & 7 & 5 \\\\\n",
    "-4 & 2 & -6 \\\\\n",
    "10 & 7 & 18\n",
    "\\end{bmatrix}\n",
    "\n",
    "---\n",
    "### 📂 Repository Structure\n",
    "├── Matric_multiplication_with_numpy.ipynb\n",
    "\n",
    "├── README.md\n",
    "\n",
    "---\n",
    "### ⚙️ Installation & Setup\n",
    "Clone the repository and install dependencies:\n",
    "\n",
    "- git clone https://github.com/Olasquare043/Learning_Linear_Algebra.git\n",
    "- cd Learning_Linear_Algebra\n",
    "- pip install numpy\n",
    "\n",
    "---\n",
    "### ▶️ Running the Notebook\n",
    "Launch Jupyter Notebook:\n",
    "- jupyter notebook Matric_multiplication_with_numpy.ipynb\n",
    "\n",
    "`Run the cells to see:`\n",
    "- NumPy computation results\n",
    "- Manual verification of matrix multiplication\n",
    "\n",
    "### 🎯 Key Learning Outcomes\n",
    "- Understand matrix dimensions and multiplication rules.\n",
    "- Differentiate between AB and BA multiplication.\n",
    "- Apply both manual computation and NumPy automation.\n",
    "- Build intuition for linear algebra concepts essential in AI/ML.\n",
    "\n",
    "### 📌 Author\n",
    "This notebook was developed as part of the Gen AI Fellowship Programme (Linear Algebra Module).\n",
    "\n",
    "👤 Saheed Olayinka Olayemi\n",
    "🔗 https://github.com/Olasquare043"
   ]
  }
 ],
 "metadata": {
  "kernelspec": {
   "display_name": ".venv",
   "language": "python",
   "name": "python3"
  },
  "language_info": {
   "codemirror_mode": {
    "name": "ipython",
    "version": 3
   },
   "file_extension": ".py",
   "mimetype": "text/x-python",
   "name": "python",
   "nbconvert_exporter": "python",
   "pygments_lexer": "ipython3",
   "version": "3.13.7"
  }
 },
 "nbformat": 4,
 "nbformat_minor": 5
}
