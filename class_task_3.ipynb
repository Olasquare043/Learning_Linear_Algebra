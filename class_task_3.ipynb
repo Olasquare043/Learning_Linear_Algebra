{
 "cells": [
  {
   "cell_type": "markdown",
   "id": "cf532bf7",
   "metadata": {},
   "source": [
    "## Question: Task 3\n",
    "Let A =\n",
    "\\begin{bmatrix}\n",
    "2 & -1 \\\\\n",
    "0 & 3\n",
    "\\end{bmatrix}, \n",
    "B = \n",
    "\\begin{bmatrix}\n",
    "1 & 3 \\\\\n",
    "-2 & 5 \\\\\n",
    "\\end{bmatrix}\n",
    "        let the scalars (c=2) (d=3)\n",
    "1. Compute the following: (cA), (dB), and (c+d)A\n",
    "2. using the result gotten, verify the scalar multiplication properties\n",
    "3. find the transpose of both matrices\n",
    "4. check if (A) and (B) are invertible by computing their determinants. If they invertible, find: A inverse and b inverse "
   ]
  },
  {
   "cell_type": "markdown",
   "id": "126721a0",
   "metadata": {},
   "source": [
    "## Solution"
   ]
  },
  {
   "cell_type": "markdown",
   "id": "1f9a5c44",
   "metadata": {},
   "source": [
    "1. Compute the following: (cA), (dB), and (c+d)A\n",
    "\n",
    "    `for (cA)` \n",
    "\n",
    "    cA = 5 x  |2  -1|\n",
    "              |0   3|\n",
    "\n",
    "    cA = |2 x 5   -1x5|\n",
    "         |0 x 5    3x5|\n",
    "\n",
    "    cA= \n",
    "    \\begin{bmatrix}\n",
    "    10 & -5 \\\\\n",
    "    0 & 15\n",
    "    \\end{bmatrix}, "
   ]
  }
 ],
 "metadata": {
  "language_info": {
   "name": "python"
  }
 },
 "nbformat": 4,
 "nbformat_minor": 5
}
