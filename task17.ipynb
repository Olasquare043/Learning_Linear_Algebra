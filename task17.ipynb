{
 "cells": [
  {
   "cell_type": "markdown",
   "id": "53b47337",
   "metadata": {},
   "source": [
    "# Student Performance Analysis with Linear Algebra "
   ]
  },
  {
   "cell_type": "markdown",
   "id": "b9f82499",
   "metadata": {},
   "source": [
    "## 1. Introduction \n",
    "In this case study, we will use Linear Algebra concepts (vectors, vector operations, matrices, \n",
    "and matrix operations) to analyze student performance data. \n",
    "Linear Algebra is powerful because it allows us to represent and manipulate data in a \n",
    "structured way. For example: - Each student’s scores can be represented as a vector. - A group of students’ scores across subjects can be represented as a matrix. - We can then use vector and matrix operations to compute totals, averages, and weighted \n",
    "grades."
   ]
  },
  {
   "cell_type": "markdown",
   "id": "671e7754",
   "metadata": {},
   "source": [
    "## 2. Problem Setup \n",
    "    We have the scores of 4 students in 3 subjects (Mathematics, English, Science): \n",
    "\n",
    "    Student     Math    English     Science \n",
    "    Student 1   80      70          90\n",
    "    Student 2   60      85          75\n",
    "    Student 3   95      88          92\n",
    "    Student 4   70      60          65\n",
    "\n",
    "We will represent this dataset as a matrix: \n",
    "\n",
    "\\begin{bmatrix}\n",
    "80 & 70 & 90\\\\ \n",
    "60 & 85 & 75\\\\\n",
    "95 & 88 & 92\\\\ \n",
    "70 & 60 & 65 \\end{bmatrix}"
   ]
  },
  {
   "cell_type": "markdown",
   "id": "33cdaea5",
   "metadata": {},
   "source": [
    "## 3. Step-by-Step Analysis "
   ]
  },
  {
   "cell_type": "markdown",
   "id": "3854eb57",
   "metadata": {},
   "source": [
    "**3.1 Representing Data as a Matrix**"
   ]
  },
  {
   "cell_type": "code",
   "execution_count": 50,
   "id": "5156a1a4",
   "metadata": {},
   "outputs": [],
   "source": [
    "# importing libraries\n",
    "import numpy as np\n",
    "\n",
    "student_array=np.array([\n",
    "    [80, 70, 90], \n",
    "    [60, 85, 75], \n",
    "    [95, 88, 92], \n",
    "    [70, 60, 65]])"
   ]
  },
  {
   "cell_type": "markdown",
   "id": "c34bfe2e",
   "metadata": {},
   "source": [
    "**3.2 Total Scores per Student (Vector Addition). Compute the total score for each student by summing across the row vector.**"
   ]
  },
  {
   "cell_type": "code",
   "execution_count": 51,
   "id": "553d5fec",
   "metadata": {},
   "outputs": [
    {
     "name": "stdout",
     "output_type": "stream",
     "text": [
      "Array sum of each student score is: [240. 220. 275. 195.]\n"
     ]
    }
   ],
   "source": [
    "subject_list= [\"Math\",\"English\", \"Science\"]\n",
    "# define array for total score for each student\n",
    "total_scores= np.zeros(student_array.shape[0])\n",
    "for i in range(student_array.shape[0]):\n",
    "    total_scores[i]=student_array[i,:].sum()\n",
    "# print(f\"old student score is: {student_array}\")\n",
    "print(f\"Array sum of each student score is: {total_scores}\")"
   ]
  },
  {
   "cell_type": "markdown",
   "id": "d013e052",
   "metadata": {},
   "source": [
    "**3.3 Applying Weights (Scalar Multiplication) Apply subject weights (e.g., Math is twice as important as others) using scalar multiplication.**"
   ]
  },
  {
   "cell_type": "code",
   "execution_count": 52,
   "id": "95353ab7",
   "metadata": {},
   "outputs": [
    {
     "data": {
      "text/plain": [
       "array([[240,  70,  90],\n",
       "       [180,  85,  75],\n",
       "       [285,  88,  92],\n",
       "       [210,  60,  65]])"
      ]
     },
     "execution_count": 52,
     "metadata": {},
     "output_type": "execute_result"
    }
   ],
   "source": [
    "# applying importance to Math by perform scalar multiplication withon math colum\n",
    "student_array[:,0]*=3  #column index for math is zero\n",
    "student_array"
   ]
  },
  {
   "cell_type": "markdown",
   "id": "2511ebce",
   "metadata": {},
   "source": [
    "**3.4 Average Score per Subject (Matrix Operations) Compute the average score for each subject by calculating the column-wise mean.**"
   ]
  },
  {
   "cell_type": "code",
   "execution_count": 53,
   "id": "a477e3f0",
   "metadata": {},
   "outputs": [
    {
     "name": "stdout",
     "output_type": "stream",
     "text": [
      "Array sum of each subject is: [915. 303. 322.]\n",
      "Array average of each subject is: [228.75  75.75  80.5 ]\n"
     ]
    }
   ],
   "source": [
    "# define array for total score for each subjects\n",
    "subject_totals= np.zeros(student_array.shape[1])\n",
    "for i in range(student_array.shape[1]):\n",
    "    subject_totals[i]=student_array[:,i].sum()\n",
    "print(f\"Array sum of each subject is: {subject_totals}\")\n",
    "\n",
    "# average score of each subject\n",
    "Subjects_averages= subject_totals/student_array.shape[0]\n",
    "print(f\"Array average of each subject is: {Subjects_averages}\")"
   ]
  },
  {
   "cell_type": "markdown",
   "id": "801a61f7",
   "metadata": {},
   "source": [
    "**3.5 Final Grades using Matrix Multiplication Use matrix multiplication with a weight vector (e.g., [0.5, 0.3, 0.2]) to calculate final grades.**"
   ]
  },
  {
   "cell_type": "code",
   "execution_count": 54,
   "id": "4ce0b20b",
   "metadata": {},
   "outputs": [
    {
     "name": "stdout",
     "output_type": "stream",
     "text": [
      "The final grades are:\n",
      "[[159. ]\n",
      " [130.5]\n",
      " [187.3]\n",
      " [136. ]]\n"
     ]
    }
   ],
   "source": [
    "weight_vector= np.array([[0.5],[0.3],[0.2]])\n",
    "\n",
    "# calculating the final grade by multiply the student scores (4 x 3) by the weight vector (3x1)\n",
    "final_grades = student_array@ weight_vector\n",
    "print(f\"The final grades are:\\n{final_grades}\")"
   ]
  },
  {
   "cell_type": "markdown",
   "id": "6390c7f7",
   "metadata": {},
   "source": [
    "**3.6 Comparing Students (Vector Subtraction) \n",
    "Compare two students’ performances by subtracting their score vectors.** "
   ]
  },
  {
   "cell_type": "code",
   "execution_count": 55,
   "id": "1efa99da",
   "metadata": {},
   "outputs": [
    {
     "name": "stdout",
     "output_type": "stream",
     "text": [
      "=====================================================\n",
      "== Student 2 and Student 4 comparison per subject ===\n",
      "=====================================================\n",
      "\n",
      "In Math: Student 4 performed better. Student 2 score 180 and student 4 has 210\n",
      "In English: Student 2 performed better. Student 2 score 85 and student 4 has 60\n",
      "In Science: Student 2 performed better. Student 2 score 75 and student 4 has 65\n"
     ]
    }
   ],
   "source": [
    "# comparing student 2 and 4 score\n",
    "student2= student_array[1,:]\n",
    "student4= student_array[3,:]\n",
    "# vector subtraction of student 2 and 4 score\n",
    "comparison= student2-student4\n",
    "print (\"=====================================================\")\n",
    "print (\"== Student 2 and Student 4 comparison per subject ===\")\n",
    "print (\"=====================================================\")\n",
    "print(\"\")\n",
    "for i in range(comparison.shape[0]):\n",
    "    print(f\"In {subject_list[i]}: {\"Student 4\" if comparison[i]<0 else \"Student 2\"} performed better. Student 2 score {student2[i]} and student 4 has {student4[i]}\")"
   ]
  },
  {
   "cell_type": "code",
   "execution_count": null,
   "id": "706c1e9c",
   "metadata": {},
   "outputs": [],
   "source": []
  },
  {
   "cell_type": "markdown",
   "id": "3de38093",
   "metadata": {},
   "source": [
    "## 5 Add-on Exercises \n",
    "1. Create a new 5×4 matrix of scores (5 students, 4 subjects). Compute each student’s total \n",
    "score and the average per subject. \n",
    "2. Suppose one subject (e.g., Science) is 3 times more important than others. Apply scalar \n",
    "multiplication and recompute totals. \n",
    "3. Define new weights for grading (e.g., 40%, 20%, 30%, 10%). Compute final grades using \n",
    "matrix multiplication. \n",
    "4. Compare Student 3 and Student 4 using vector subtraction. Who performed better in each \n",
    "subject?"
   ]
  },
  {
   "cell_type": "markdown",
   "id": "4ef8c588",
   "metadata": {},
   "source": [
    "**1. Create a new 5×4 matrix of scores (5 students, 4 subjects). Compute each student’s total score and the average per subject**\n",
    "**Assuming the list of 4 subjects are:**\n",
    "- Computer Science (CSC)\n",
    "- Geography (GEO)\n",
    "- Statistics (STA)\n",
    "- English (ENG)"
   ]
  },
  {
   "cell_type": "code",
   "execution_count": 56,
   "id": "eb196671",
   "metadata": {},
   "outputs": [
    {
     "name": "stdout",
     "output_type": "stream",
     "text": [
      "Array sum of each student score is: [310. 241. 306. 255. 310.]\n",
      "Array sum of each subject is: [336. 372. 404. 310.]\n",
      "Array average of each subject is: [67.2 74.4 80.8 62. ]\n"
     ]
    }
   ],
   "source": [
    "students_data =np.array([\n",
    "    [82, 60, 89, 79], \n",
    "    [66, 65, 71, 39], \n",
    "    [55, 88, 92, 71], \n",
    "    [77, 69, 65, 44],\n",
    "    [56, 90, 87, 77]])\n",
    "subjects= [\"Computer Science\",\"Geography\", \"Statistics\",\"English\"]\n",
    "# define array for total score for each student\n",
    "student_total_scores= np.zeros(students_data.shape[0])\n",
    "for i in range(students_data.shape[0]):\n",
    "    student_total_scores[i]=students_data[i,:].sum()\n",
    "print(f\"Array sum of each student score is: {student_total_scores}\")\n",
    "\n",
    "# define array for total score for each subjects\n",
    "subject_total_scores= np.zeros(students_data.shape[1])\n",
    "for i in range(students_data.shape[1]):\n",
    "    subject_total_scores[i]=students_data[:,i].sum()\n",
    "print(f\"Array sum of each subject is: {subject_total_scores}\")\n",
    "\n",
    "# average score of each subject\n",
    "Subjects_averages= subject_total_scores/students_data.shape[0]\n",
    "print(f\"Array average of each subject is: {Subjects_averages}\")\n",
    "\n"
   ]
  },
  {
   "cell_type": "markdown",
   "id": "9f8c86d3",
   "metadata": {},
   "source": [
    "**2. Suppose one subject (e.g., Science) is 3 times more important than others. Apply scalar multiplication and recompute totals.**\n",
    "- let say Computer Scvience is 3x over other subjects\n",
    "- so the scalar will be [3,1,1,1]"
   ]
  },
  {
   "cell_type": "code",
   "execution_count": 57,
   "id": "0e91f710",
   "metadata": {},
   "outputs": [
    {
     "name": "stdout",
     "output_type": "stream",
     "text": [
      "New Score: \n",
      " [[246  60  89  79]\n",
      " [198  65  71  39]\n",
      " [165  88  92  71]\n",
      " [231  69  65  44]\n",
      " [168  90  87  77]]\n",
      "New Array sum of each student score is: [474. 373. 416. 409. 422.]\n",
      "New Array sum of each subject is: [1008.  372.  404.  310.]\n"
     ]
    }
   ],
   "source": [
    "# setting scalar\n",
    "scalar=[3,1,1,1]\n",
    "# creating empty array\n",
    "# new_student_data= np.zeros([students_data.shape[0],students_data.shape[1]])\n",
    "for i, scale in enumerate(scalar):\n",
    "    students_data[:,i] *= scale\n",
    "print(f\"New Score: \\n {students_data}\")\n",
    "\n",
    "\n",
    "# recomputing the totals\n",
    "\n",
    "# define array for total score for each student\n",
    "new_student_total_scores= np.zeros(students_data.shape[0])\n",
    "for i in range(students_data.shape[0]):\n",
    "    new_student_total_scores[i]=students_data[i,:].sum()\n",
    "print(f\"New Array sum of each student score is: {new_student_total_scores}\")\n",
    "\n",
    "# define array for total score for each subjects\n",
    "new_subject_total_scores= np.zeros(students_data.shape[1])\n",
    "for i in range(students_data.shape[1]):\n",
    "    new_subject_total_scores[i]=students_data[:,i].sum()\n",
    "print(f\"New Array sum of each subject is: {new_subject_total_scores}\")\n"
   ]
  },
  {
   "cell_type": "markdown",
   "id": "af8a189d",
   "metadata": {},
   "source": [
    "**3. Define new weights for grading (e.g., 35%, 20%, 30%, 15%). Compute final grades using matrix multiplication.**"
   ]
  },
  {
   "cell_type": "code",
   "execution_count": 58,
   "id": "df68e9e5",
   "metadata": {},
   "outputs": [
    {
     "name": "stdout",
     "output_type": "stream",
     "text": [
      "New scores after applied importance: \n",
      " [[246  60  89  79]\n",
      " [198  65  71  39]\n",
      " [165  88  92  71]\n",
      " [231  69  65  44]\n",
      " [168  90  87  77]]\n",
      "\n",
      "Final grades: \n",
      " [[136.65]\n",
      " [109.45]\n",
      " [113.6 ]\n",
      " [120.75]\n",
      " [114.45]]\n"
     ]
    }
   ],
   "source": [
    "# assuming the new grade is 45%, 20%, 30%, 15%\n",
    "weight =np.array([[0.35],[0.2],[0.3],[0.15]])\n",
    "\n",
    "# using matrix multiplication (5x4) x (4x1) and produce (5x1)\n",
    "final_grade= np.dot(students_data,weight)\n",
    "\n",
    "# printing the intial score, score after compute importance and the result after multiplication\n",
    "print(f\"New scores after applied importance: \\n {students_data}\\n\")\n",
    "print(f\"Final grades: \\n {final_grade}\")"
   ]
  },
  {
   "cell_type": "markdown",
   "id": "799def5b",
   "metadata": {},
   "source": [
    "**4. Compare Student 3 and Student 4 using vector subtraction. Who performed better in each  subject?**"
   ]
  },
  {
   "cell_type": "code",
   "execution_count": 59,
   "id": "1582a5c5",
   "metadata": {},
   "outputs": [
    {
     "name": "stdout",
     "output_type": "stream",
     "text": [
      "\n",
      "==================================================\n",
      "The comparison between Student 3 and student 4 \n",
      "==================================================\n",
      "\n",
      "In Computer Science: Student 4 performed better. Student 3 score 165 and student 4 has 231\n",
      "In Geography: Student 3 performed better. Student 3 score 88 and student 4 has 69\n",
      "In Statistics: Student 3 performed better. Student 3 score 92 and student 4 has 65\n",
      "In English: Student 3 performed better. Student 3 score 71 and student 4 has 44\n"
     ]
    }
   ],
   "source": [
    "# assuming we are using the new scores after adding importance to the sujects\n",
    "student_3= students_data[2,:]\n",
    "student_4= students_data[3,:]\n",
    "compare = student_3 - student_4\n",
    "# sub=student3-student4\n",
    "# compare= np.where(sub<0,\"Student 4 performed better\",\"Student 3 performed better\")\n",
    "print(\"\\n\" + \"=\"*50)\n",
    "print(\"The comparison between Student 3 and student 4 \")\n",
    "print(\"=\"*50)\n",
    "print(\"\")\n",
    "for i in range(compare.shape[0]):\n",
    "    # print(f\"{subjects[i]}: {compare[i]}\")\n",
    "    print(f\"In {subjects[i]}: {\"Student 4\" if compare[i]<0 else \"Student 3\"} performed better. Student 3 score {student_3[i]} and student 4 has {student_4[i]}\")\n"
   ]
  }
 ],
 "metadata": {
  "kernelspec": {
   "display_name": ".venv",
   "language": "python",
   "name": "python3"
  },
  "language_info": {
   "codemirror_mode": {
    "name": "ipython",
    "version": 3
   },
   "file_extension": ".py",
   "mimetype": "text/x-python",
   "name": "python",
   "nbconvert_exporter": "python",
   "pygments_lexer": "ipython3",
   "version": "3.13.7"
  }
 },
 "nbformat": 4,
 "nbformat_minor": 5
}
