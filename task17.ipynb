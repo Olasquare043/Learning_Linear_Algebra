{
 "cells": [
  {
   "cell_type": "markdown",
   "id": "53b47337",
   "metadata": {},
   "source": [
    "## Student Performance Analysis with Linear Algebra "
   ]
  },
  {
   "cell_type": "markdown",
   "id": "3de38093",
   "metadata": {},
   "source": [
    "**Add-on Exercises**  \n",
    "1. Create a new 5×4 matrix of scores (5 students, 4 subjects). Compute each student’s total \n",
    "score and the average per subject. \n",
    "2. Suppose one subject (e.g., Science) is 3 times more important than others. Apply scalar \n",
    "multiplication and recompute totals. \n",
    "3. Define new weights for grading (e.g., 40%, 20%, 30%, 10%). Compute final grades using \n",
    "matrix multiplication. \n",
    "4. Compare Student 3 and Student 4 using vector subtraction. Who performed better in each \n",
    "subject?"
   ]
  },
  {
   "cell_type": "code",
   "execution_count": 77,
   "id": "f1a8a098",
   "metadata": {},
   "outputs": [],
   "source": [
    "# importing libraries\n",
    "import numpy as np\n"
   ]
  },
  {
   "cell_type": "markdown",
   "id": "4ef8c588",
   "metadata": {},
   "source": [
    "### 1. Create a new 5×4 matrix of scores (5 students, 4 subjects). Compute each student’s total score and the average per subject. \n",
    "**Assuming the list of 4 subjects are:**\n",
    "- Computer Science (CSC)\n",
    "- Geography (GEO)\n",
    "- Statistics (STA)\n",
    "- English (ENG)"
   ]
  },
  {
   "cell_type": "code",
   "execution_count": 78,
   "id": "eb196671",
   "metadata": {},
   "outputs": [
    {
     "name": "stdout",
     "output_type": "stream",
     "text": [
      "Array sum of each student score is: [310. 241. 306. 255. 310.]\n",
      "Array sum of each subject is: [336. 372. 404. 310.]\n",
      "Array average of each subject is: [67.2 74.4 80.8 62. ]\n"
     ]
    }
   ],
   "source": [
    "students_data =np.array([\n",
    "    [82, 60, 89, 79], \n",
    "    [66, 65, 71, 39], \n",
    "    [55, 88, 92, 71], \n",
    "    [77, 69, 65, 44],\n",
    "    [56, 90, 87, 77]])\n",
    "\n",
    "# define array for total score for each student\n",
    "student_total_scores= np.zeros(students_data.shape[0])\n",
    "for i in range(students_data.shape[0]):\n",
    "    student_total_scores[i]=students_data[i,:].sum()\n",
    "print(f\"Array sum of each student score is: {student_total_scores}\")\n",
    "\n",
    "# define array for total score for each subjects\n",
    "subject_total_scores= np.zeros(students_data.shape[1])\n",
    "for i in range(students_data.shape[1]):\n",
    "    subject_total_scores[i]=students_data[:,i].sum()\n",
    "print(f\"Array sum of each subject is: {subject_total_scores}\")\n",
    "\n",
    "# average score of each subject\n",
    "Subjects_averages= subject_total_scores/students_data.shape[0]\n",
    "print(f\"Array average of each subject is: {Subjects_averages}\")\n",
    "\n"
   ]
  },
  {
   "cell_type": "code",
   "execution_count": 79,
   "id": "02300027",
   "metadata": {},
   "outputs": [
    {
     "data": {
      "text/plain": [
       "array([[82, 60, 89, 79],\n",
       "       [66, 65, 71, 39],\n",
       "       [55, 88, 92, 71],\n",
       "       [77, 69, 65, 44],\n",
       "       [56, 90, 87, 77]])"
      ]
     },
     "execution_count": 79,
     "metadata": {},
     "output_type": "execute_result"
    }
   ],
   "source": [
    "students_data"
   ]
  },
  {
   "cell_type": "markdown",
   "id": "9f8c86d3",
   "metadata": {},
   "source": [
    "### 2. Suppose one subject (e.g., Science) is 3 times more important than others. Apply scalar multiplication and recompute totals. \n",
    "- let say Computer Scvience is 3x over other subjects\n",
    "- so the scalar will be [3,1,1,1]"
   ]
  },
  {
   "cell_type": "code",
   "execution_count": 80,
   "id": "80fb8ee8",
   "metadata": {},
   "outputs": [
    {
     "data": {
      "text/plain": [
       "array([[82, 60, 89, 79],\n",
       "       [66, 65, 71, 39],\n",
       "       [55, 88, 92, 71],\n",
       "       [77, 69, 65, 44],\n",
       "       [56, 90, 87, 77]])"
      ]
     },
     "execution_count": 80,
     "metadata": {},
     "output_type": "execute_result"
    }
   ],
   "source": [
    "students_data"
   ]
  },
  {
   "cell_type": "code",
   "execution_count": 83,
   "id": "0e91f710",
   "metadata": {},
   "outputs": [
    {
     "name": "stdout",
     "output_type": "stream",
     "text": [
      "Old Score: \n",
      " [[82 60 89 79]\n",
      " [66 65 71 39]\n",
      " [55 88 92 71]\n",
      " [77 69 65 44]\n",
      " [56 90 87 77]]\n",
      "\n",
      "New Score: \n",
      " [[246.  60.  89.  79.]\n",
      " [198.  65.  71.  39.]\n",
      " [165.  88.  92.  71.]\n",
      " [231.  69.  65.  44.]\n",
      " [168.  90.  87.  77.]]\n",
      "New Array sum of each student score is: [474. 373. 416. 409. 422.]\n",
      "New Array sum of each subject is: [1008.  372.  404.  310.]\n"
     ]
    }
   ],
   "source": [
    "# setting scalar\n",
    "scalar=[3,1,1,1]\n",
    "# creating empty array\n",
    "new_student_data= np.zeros([students_data.shape[0],students_data.shape[1]])\n",
    "for i, scale in enumerate(scalar):\n",
    "    new_student_data[:,i]= students_data[:,i] * scale\n",
    "print(f\"Old Score: \\n {students_data}\\n\")\n",
    "print(f\"New Score: \\n {new_student_data}\")\n",
    "\n",
    "\n",
    "# recomputing the totals\n",
    "\n",
    "# define array for total score for each student\n",
    "new_student_total_scores= np.zeros(new_student_data.shape[0])\n",
    "for i in range(new_student_data.shape[0]):\n",
    "    new_student_total_scores[i]=new_student_data[i,:].sum()\n",
    "print(f\"New Array sum of each student score is: {new_student_total_scores}\")\n",
    "\n",
    "# define array for total score for each subjects\n",
    "new_subject_total_scores= np.zeros(new_student_data.shape[1])\n",
    "for i in range(new_student_data.shape[1]):\n",
    "    new_subject_total_scores[i]=new_student_data[:,i].sum()\n",
    "print(f\"New Array sum of each subject is: {new_subject_total_scores}\")\n"
   ]
  },
  {
   "cell_type": "markdown",
   "id": "af8a189d",
   "metadata": {},
   "source": [
    "### 3. Define new weights for grading (e.g., 35%, 20%, 30%, 15%). Compute final grades using matrix multiplication. \n"
   ]
  },
  {
   "cell_type": "code",
   "execution_count": 84,
   "id": "df68e9e5",
   "metadata": {},
   "outputs": [
    {
     "name": "stdout",
     "output_type": "stream",
     "text": [
      "Old scores: \n",
      " [[82 60 89 79]\n",
      " [66 65 71 39]\n",
      " [55 88 92 71]\n",
      " [77 69 65 44]\n",
      " [56 90 87 77]]\n",
      "\n",
      "New scores after applied importance: \n",
      " [[246.  60.  89.  79.]\n",
      " [198.  65.  71.  39.]\n",
      " [165.  88.  92.  71.]\n",
      " [231.  69.  65.  44.]\n",
      " [168.  90.  87.  77.]]\n",
      "\n",
      "Final grades: \n",
      " [[136.65]\n",
      " [109.45]\n",
      " [113.6 ]\n",
      " [120.75]\n",
      " [114.45]]\n"
     ]
    }
   ],
   "source": [
    "# assuming the new grade is 45%, 20%, 30%, 15%\n",
    "weight =np.array([[0.35],[0.2],[0.3],[0.15]])\n",
    "\n",
    "# using matrix multiplication (5x4) x (4x1) and produce (5x1)\n",
    "final_grade= np.dot(new_student_data,weight)\n",
    "\n",
    "# printing the intial score, score after compute importance and the result after multiplication\n",
    "print(f\"Old scores: \\n {students_data}\\n\")\n",
    "print(f\"New scores after applied importance: \\n {new_student_data}\\n\")\n",
    "print(f\"Final grades: \\n {final_grade}\")"
   ]
  }
 ],
 "metadata": {
  "kernelspec": {
   "display_name": "Python 3",
   "language": "python",
   "name": "python3"
  },
  "language_info": {
   "codemirror_mode": {
    "name": "ipython",
    "version": 3
   },
   "file_extension": ".py",
   "mimetype": "text/x-python",
   "name": "python",
   "nbconvert_exporter": "python",
   "pygments_lexer": "ipython3",
   "version": "3.13.7"
  }
 },
 "nbformat": 4,
 "nbformat_minor": 5
}
