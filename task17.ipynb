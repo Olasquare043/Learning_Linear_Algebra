{
 "cells": [
  {
   "cell_type": "markdown",
   "id": "53b47337",
   "metadata": {},
   "source": [
    "## Student Performance Analysis with Linear Algebra "
   ]
  },
  {
   "cell_type": "markdown",
   "id": "3de38093",
   "metadata": {},
   "source": [
    "**Add-on Exercises**  \n",
    "1. Create a new 5×4 matrix of scores (5 students, 4 subjects). Compute each student’s total \n",
    "score and the average per subject. \n",
    "2. Suppose one subject (e.g., Science) is 3 times more important than others. Apply scalar \n",
    "multiplication and recompute totals. \n",
    "3. Define new weights for grading (e.g., 40%, 20%, 30%, 10%). Compute final grades using \n",
    "matrix multiplication. \n",
    "4. Compare Student 3 and Student 4 using vector subtraction. Who performed better in each \n",
    "subject?"
   ]
  },
  {
   "cell_type": "code",
   "execution_count": 2,
   "id": "f1a8a098",
   "metadata": {},
   "outputs": [],
   "source": [
    "# importing libraries\n",
    "import numpy as np\n"
   ]
  },
  {
   "cell_type": "markdown",
   "id": "4ef8c588",
   "metadata": {},
   "source": [
    "### 1. Create a new 5×4 matrix of scores (5 students, 4 subjects). Compute each student’s total score and the average per subject. \n",
    "**Assuming the list of 4 subjects are:**\n",
    "- Computer Science (CSC)\n",
    "- Geography (GEO)\n",
    "- Statistics (STA)\n",
    "- English (ENG)"
   ]
  },
  {
   "cell_type": "code",
   "execution_count": 40,
   "id": "eb196671",
   "metadata": {},
   "outputs": [
    {
     "name": "stdout",
     "output_type": "stream",
     "text": [
      "Array sum of each student score is : [310. 241. 306. 255. 310.]\n",
      "Array sum of each subject is : [336. 372. 404. 310.]\n",
      "Array average of each subject is : [67.2 74.4 80.8 62. ]\n"
     ]
    }
   ],
   "source": [
    "students_data =np.array([\n",
    "    [82, 60, 89, 79], \n",
    "    [66, 65, 71, 39], \n",
    "    [55, 88, 92, 71], \n",
    "    [77, 69, 65, 44],\n",
    "    [56, 90, 87, 77]])\n",
    "\n",
    "# define array for total score for each student\n",
    "student_total_scores= np.zeros(students_data.shape[0])\n",
    "for i in range(students_data.shape[0]):\n",
    "    student_total_scores[i]=students_data[i,:].sum()\n",
    "print(f\"Array sum of each student score is : {student_total_scores}\")\n",
    "\n",
    "# define array for total score for each student\n",
    "subject_total_scores= np.zeros(students_data.shape[1])\n",
    "for i in range(students_data.shape[1]):\n",
    "    subject_total_scores[i]=students_data[:,i].sum()\n",
    "print(f\"Array sum of each subject is : {subject_total_scores}\")\n",
    "\n",
    "# average score of each subject\n",
    "Subjects_averages= subject_total_scores/students_data.shape[0]\n",
    "print(f\"Array average of each subject is : {Subjects_averages}\")\n",
    "\n"
   ]
  },
  {
   "cell_type": "markdown",
   "id": "9f8c86d3",
   "metadata": {},
   "source": [
    "### 2. Suppose one subject (e.g., Science) is 3 times more important than others. Apply scalar multiplication and recompute totals. \n",
    "- let say Computer Scvience is 3x over other subjects\n",
    "- so the scalar will be [3,1,1,1]"
   ]
  },
  {
   "cell_type": "code",
   "execution_count": null,
   "id": "0e91f710",
   "metadata": {},
   "outputs": [],
   "source": [
    "# setting scalar\n",
    "scalar=[3,1,1,1]\n",
    "# for i, scales in enumerate()\n",
    "# new_student_data = s"
   ]
  }
 ],
 "metadata": {
  "kernelspec": {
   "display_name": "Python 3",
   "language": "python",
   "name": "python3"
  },
  "language_info": {
   "codemirror_mode": {
    "name": "ipython",
    "version": 3
   },
   "file_extension": ".py",
   "mimetype": "text/x-python",
   "name": "python",
   "nbconvert_exporter": "python",
   "pygments_lexer": "ipython3",
   "version": "3.13.7"
  }
 },
 "nbformat": 4,
 "nbformat_minor": 5
}
