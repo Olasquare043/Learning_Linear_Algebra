{
 "cells": [
  {
   "cell_type": "markdown",
   "id": "d40ca0a7",
   "metadata": {},
   "source": [
    "## Question: Task 16\n",
    "Let A =\n",
    "\\begin{bmatrix}\n",
    "2 & -1 \\\\\n",
    "0 & 3\n",
    "\\end{bmatrix}, \n",
    "B = \n",
    "\\begin{bmatrix}\n",
    "1 & 4 \\\\\n",
    "-2 & 5 \\\\\n",
    "\\end{bmatrix}\n",
    "        let the scalars (c=2) (d=3)\n",
    "1. Compute the following: (cA), (dB), and (c+d)A\n",
    "2. using the result gotten, verify the scalar multiplication properties\n",
    "3. find the transpose of both matrices\n",
    "4. check if (A) and (B) are invertible by computing their determinants. If they invertible, find: A inverse and B inverse "
   ]
  },
  {
   "cell_type": "markdown",
   "id": "7286843a",
   "metadata": {},
   "source": [
    "### 1. Compute the following: (cA), (dB), and (c+d)A"
   ]
  },
  {
   "cell_type": "code",
   "execution_count": 35,
   "id": "2f5f3349",
   "metadata": {},
   "outputs": [
    {
     "name": "stdout",
     "output_type": "stream",
     "text": [
      "cA is: \n",
      "[[ 4 -2]\n",
      " [ 0  6]]\n",
      "\n",
      "dB is: \n",
      "[[ 3 12]\n",
      " [-6 15]]\n",
      "\n",
      "(c+d)A is: \n",
      "[[10 -5]\n",
      " [ 0 15]]\n",
      "\n"
     ]
    }
   ],
   "source": [
    "import numpy as np\n",
    "# define the arrary\n",
    "A= np.array([[2,-1],[0,3]])\n",
    "B= np.array([[1,4],[-2,5]])\n",
    "\n",
    "# set the scalars\n",
    "c,d =2,3\n",
    "\n",
    "# compute cA\n",
    "cA=c*A\n",
    "print (f\"cA is: \\n{cA}\\n\")\n",
    "\n",
    "# compute dB\n",
    "dB=d*B\n",
    "print (f\"dB is: \\n{dB}\\n\")\n",
    "\n",
    "# compute (c+d)A\n",
    "c_plus_d_A= (c+d)*A\n",
    "print (f\"(c+d)A is: \\n{c_plus_d_A}\\n\")"
   ]
  },
  {
   "cell_type": "markdown",
   "id": "6ee3acec",
   "metadata": {},
   "source": [
    "### 2. using the result gotten, verify the scalar multiplication properties"
   ]
  },
  {
   "cell_type": "markdown",
   "id": "960c71f6",
   "metadata": {},
   "source": [
    "**Distributivity**: (c+d)A = cA + dA**"
   ]
  },
  {
   "cell_type": "code",
   "execution_count": 36,
   "id": "39178cea",
   "metadata": {},
   "outputs": [
    {
     "name": "stdout",
     "output_type": "stream",
     "text": [
      "Distributivity says: (c+d)A = cA + dA\n",
      "\n",
      "(c+d)A =\n",
      " [[10 -5]\n",
      " [ 0 15]]\n",
      "\n",
      "cA + dA = \n",
      "[[10 -5]\n",
      " [ 0 15]]\n",
      "\n",
      "Yes, it is distributive\n"
     ]
    }
   ],
   "source": [
    "# says that (c+d)A = cA + dA\n",
    "print(\"Distributivity says: (c+d)A = cA + dA\\n\")\n",
    "left = (c+d)*A  # compute (c+d)*A\n",
    "dA=d*A\n",
    "right = cA + dA \n",
    "print(f'(c+d)A =\\n {left}\\n')\n",
    "print(f'cA + dA = \\n{right}')\n",
    "print(f'{\"\\nYes, it is\" if np.array_equal(left,right) else \"No,is not\"} distributive')"
   ]
  },
  {
   "cell_type": "markdown",
   "id": "d1c0aa6c",
   "metadata": {},
   "source": [
    "### 3. find the transpose of both matrices"
   ]
  },
  {
   "cell_type": "code",
   "execution_count": 37,
   "id": "0809a347",
   "metadata": {},
   "outputs": [
    {
     "name": "stdout",
     "output_type": "stream",
     "text": [
      "Transpose of matrix A is: \n",
      " [[ 2  0]\n",
      " [-1  3]]\n",
      "\n",
      "Transpose of matrix B is: \n",
      " [[ 1 -2]\n",
      " [ 4  5]]\n",
      "\n"
     ]
    }
   ],
   "source": [
    "# Transpose of Matrix A and B\n",
    "A_T= np.transpose(A)\n",
    "B_T= np.transpose(B)\n",
    "print(f\"Transpose of matrix A is: \\n {A_T}\\n\")\n",
    "print(f\"Transpose of matrix B is: \\n {B_T}\\n\")"
   ]
  },
  {
   "cell_type": "markdown",
   "id": "8c1d8966",
   "metadata": {},
   "source": [
    "### 4. check if (A) and (B) are invertible by computing their determinants. If they invertible, find: A inverse and B inverse "
   ]
  },
  {
   "cell_type": "markdown",
   "id": "ad330b5f",
   "metadata": {},
   "source": [
    "**Checking invertibility**"
   ]
  },
  {
   "cell_type": "code",
   "execution_count": 38,
   "id": "e1b5e84b",
   "metadata": {},
   "outputs": [
    {
     "name": "stdout",
     "output_type": "stream",
     "text": [
      "\n",
      "==================================================\n",
      "CHECKING INVERTIBILITY\n",
      "==================================================\n",
      "\n",
      "Determinant of A is: 6.0\n",
      "Determinant of B is: 13.0\n",
      "\n",
      "Is A invertible? Yes,(det ≠ 0) \n",
      "Is B invertible? Yes,(det ≠ 0) \n",
      "\n"
     ]
    }
   ],
   "source": [
    "print(\"\\n\" + \"=\"*50)\n",
    "print(\"CHECKING INVERTIBILITY\")\n",
    "print(\"=\"*50)\n",
    "# finding the determinant to check invertability\n",
    "det_A= np.linalg.det(A)  #determinate of A\n",
    "det_B= np.linalg.det(B)  #determinate of B\n",
    "\n",
    "# print A and B determinants\n",
    "print (f\"\\nDeterminant of A is: {det_A}\")\n",
    "print (f\"Determinant of B is: {det_B}\\n\")\n",
    "# determine the invertibility, if det ≠ 0\n",
    "print(f\"Is A invertible? {\"Yes,(det ≠ 0)\" if det_A != 0 else \"No, (det = 0)\"} \")\n",
    "print(f\"Is B invertible? {\"Yes,(det ≠ 0)\" if det_B != 0 else \"No, (det = 0)\"} \\n\")"
   ]
  },
  {
   "cell_type": "markdown",
   "id": "1fce4d53",
   "metadata": {},
   "source": [
    "**Computing inverse of matrix A**"
   ]
  },
  {
   "cell_type": "code",
   "execution_count": 39,
   "id": "5f8de765",
   "metadata": {},
   "outputs": [
    {
     "name": "stdout",
     "output_type": "stream",
     "text": [
      "\n",
      "==================================================\n",
      "COMPUTING INVERSE OF A\n",
      "==================================================\n",
      "\n",
      "The inverse of A is: \n",
      " [[0.5        0.16666667]\n",
      " [0.         0.33333333]]\n",
      "\n",
      "\n",
      "Verification.. A * inverse(A) must give identity matrix:\n",
      "[[1. 0.]\n",
      " [0. 1.]]\n",
      "\n",
      "Is A * inverse(A) = identity matrix? Yes\n"
     ]
    }
   ],
   "source": [
    "# Computing inverse\n",
    "print(\"\\n\" + \"=\"*50)\n",
    "print(\"COMPUTING INVERSE OF A\")\n",
    "print(\"=\"*50)\n",
    "\n",
    "# computing for matrix A\n",
    "if det_A != 0:\n",
    "    inverse_A= np.linalg.inv(A)\n",
    "    print(f\"\\nThe inverse of A is: \\n {inverse_A}\\n\")\n",
    "    # verification.. A * A^(-1) should produce identity matrix\n",
    "    print(\"\\nVerification.. A * inverse(A) must give identity matrix:\")\n",
    "    verify=np.dot(A,inverse_A)\n",
    "    print(verify)\n",
    "    print (f\"\\nIs A * inverse(A) = identity matrix? {\"Yes\" if np.array_equal(verify, np.eye(2)) else \"No\"}\")\n",
    "else:\n",
    "    print(\"\\nA is NOT invertible (determinant = 0)\")"
   ]
  },
  {
   "cell_type": "markdown",
   "id": "3c75092b",
   "metadata": {},
   "source": [
    "**Computing inverse of matrix B**"
   ]
  },
  {
   "cell_type": "code",
   "execution_count": 40,
   "id": "be1e1b5a",
   "metadata": {},
   "outputs": [
    {
     "name": "stdout",
     "output_type": "stream",
     "text": [
      "\n",
      "==================================================\n",
      "COMPUTING INVERSE OF B\n",
      "==================================================\n",
      "\n",
      "The inverse of B is: \n",
      " [[ 0.38461538 -0.30769231]\n",
      " [ 0.15384615  0.07692308]]\n",
      "\n",
      "\n",
      "Verification.. B * inverse(B) must give identity matrix:\n",
      "[[1. 0.]\n",
      " [0. 1.]]\n",
      "\n",
      "Is B * inverse(B) = identity matrix? Yes\n"
     ]
    }
   ],
   "source": [
    "# Computing inverse\n",
    "print(\"\\n\" + \"=\"*50)\n",
    "print(\"COMPUTING INVERSE OF B\")\n",
    "print(\"=\"*50)\n",
    "\n",
    "if det_B != 0:\n",
    "    inverse_B= np.linalg.inv(B)\n",
    "    print(f\"\\nThe inverse of B is: \\n {inverse_B}\\n\")\n",
    "    # verification.. B * B^(-1) should produce identity matrix\n",
    "    print(\"\\nVerification.. B * inverse(B) must give identity matrix:\")\n",
    "    verify=np.dot(B,inverse_B)\n",
    "    print(verify)\n",
    "    print (f\"\\nIs B * inverse(B) = identity matrix? {\"Yes\" if np.array_equal(verify, np.eye(2)) else \"No\"}\")\n",
    "else:\n",
    "     print(\"\\nB is NOT invertible (determinant = 0)\")"
   ]
  }
 ],
 "metadata": {
  "kernelspec": {
   "display_name": ".venv",
   "language": "python",
   "name": "python3"
  },
  "language_info": {
   "codemirror_mode": {
    "name": "ipython",
    "version": 3
   },
   "file_extension": ".py",
   "mimetype": "text/x-python",
   "name": "python",
   "nbconvert_exporter": "python",
   "pygments_lexer": "ipython3",
   "version": "3.13.7"
  }
 },
 "nbformat": 4,
 "nbformat_minor": 5
}
